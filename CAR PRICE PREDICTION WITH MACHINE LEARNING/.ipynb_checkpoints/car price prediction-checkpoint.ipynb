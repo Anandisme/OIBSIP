{
 "cells": [
  {
   "cell_type": "code",
   "execution_count": null,
   "id": "7336cb4a",
   "metadata": {},
   "outputs": [],
   "source": [
    "import pandas as pd \n",
    "import numpy as np\n",
    "from sklearn import linear_model \n",
    "import matplotlib.pyplot as plt\n",
    "import seaborn as sns\n",
    "from sklearn.model_selection import train_test_split\n",
    "from sklearn.linear_model import LinearRegression\n",
    "from sklearn.metrics import mean_squared_error\n",
    "from sklearn.preprocessing import LabelEncoder\n",
    "import warnings"
   ]
  },
  {
   "cell_type": "code",
   "execution_count": null,
   "id": "c5af73e3",
   "metadata": {},
   "outputs": [],
   "source": [
    "data=pd.read_csv( \"C:/Users/hp/Desktop/PROJECT/CAR PRICE PREDICTION WITH MACHINE LEARNING/CarPrice_Assignment.csv\")\n",
    "data.head()"
   ]
  },
  {
   "cell_type": "code",
   "execution_count": null,
   "id": "68194bab",
   "metadata": {},
   "outputs": [],
   "source": [
    "data=data.drop(columns=[\"car_ID\"])"
   ]
  },
  {
   "cell_type": "code",
   "execution_count": null,
   "id": "818eebcc",
   "metadata": {},
   "outputs": [],
   "source": [
    "data.head()"
   ]
  },
  {
   "cell_type": "code",
   "execution_count": null,
   "id": "e54ca390",
   "metadata": {},
   "outputs": [],
   "source": [
    "data.isnull().sum()"
   ]
  },
  {
   "cell_type": "code",
   "execution_count": null,
   "id": "5298d817",
   "metadata": {},
   "outputs": [],
   "source": [
    "data[\"price\"].describe()"
   ]
  },
  {
   "cell_type": "code",
   "execution_count": null,
   "id": "79e013b0",
   "metadata": {},
   "outputs": [],
   "source": [
    "plt.style.use('dark_background')\n",
    "sns.set_palette('dark')\n",
    "sns.histplot(data['price'])\n",
    "plt.title('Distribution of car Price',color='white')\n",
    "plt.xlabel('price',color='white')\n",
    "plt.ylabel('count',color='white')\n",
    "plt.xticks(color='white')\n",
    "plt.yticks(color='white')\n",
    "plt.show()\n",
    "numeric_features=['wheelbase','enginesize','boreratio','stroke','compressionratio','horsepower',\n",
    "                   'peakrpm','citympg','highwaympg','price']\n",
    "correlation_matrix=data[numeric_features].corr()\n",
    "plt.figure(figsize=(11,9))\n",
    "sns.heatmap(correlation_matrix,annot=True,cmap='coolwarm')\n",
    "plt.title('correlation Heatmap',color='white')\n",
    "plt.xticks(color='white')\n",
    "plt.yticks(color='white')\n",
    "plt.show()\n",
    "           "
   ]
  },
  {
   "cell_type": "code",
   "execution_count": null,
   "id": "7b7b0166",
   "metadata": {},
   "outputs": [],
   "source": [
    "a1=data[\"price\"].quantile(0.25)\n",
    "a2=data[\"price\"].quantile(0.75)\n",
    "IQR=a2-a1\n",
    "IQR"
   ]
  },
  {
   "cell_type": "code",
   "execution_count": null,
   "id": "7df68345",
   "metadata": {},
   "outputs": [],
   "source": [
    "upper_limit=a2+1.5*IQR\n",
    "lower_limit=a1-1.5*IQR\n",
    "upper_limit,lower_limit\n"
   ]
  },
  {
   "cell_type": "code",
   "execution_count": null,
   "id": "9b1352a5",
   "metadata": {},
   "outputs": [],
   "source": [
    "def imputer(value):\n",
    "    if value>upper_limit:\n",
    "        return upper_limit\n",
    "    if value<lower_limit:\n",
    "        return lower_limit\n",
    "    else:\n",
    "        return value"
   ]
  },
  {
   "cell_type": "code",
   "execution_count": null,
   "id": "00b103dd",
   "metadata": {},
   "outputs": [],
   "source": [
    "data['price']=data['price'].apply(imputer)"
   ]
  },
  {
   "cell_type": "code",
   "execution_count": 122,
   "id": "19c8cbfc",
   "metadata": {},
   "outputs": [
    {
     "name": "stdout",
     "output_type": "stream",
     "text": [
      "<class 'pandas.core.frame.DataFrame'>\n",
      "RangeIndex: 205 entries, 0 to 204\n",
      "Data columns (total 25 columns):\n",
      " #   Column            Non-Null Count  Dtype  \n",
      "---  ------            --------------  -----  \n",
      " 0   symboling         205 non-null    int64  \n",
      " 1   CarName           205 non-null    object \n",
      " 2   fueltype          205 non-null    object \n",
      " 3   aspiration        205 non-null    object \n",
      " 4   doornumber        205 non-null    object \n",
      " 5   carbody           205 non-null    object \n",
      " 6   drivewheel        205 non-null    object \n",
      " 7   enginelocation    205 non-null    object \n",
      " 8   wheelbase         205 non-null    float64\n",
      " 9   carlength         205 non-null    float64\n",
      " 10  carwidth          205 non-null    float64\n",
      " 11  carheight         205 non-null    float64\n",
      " 12  curbweight        205 non-null    int64  \n",
      " 13  enginetype        205 non-null    object \n",
      " 14  cylindernumber    205 non-null    object \n",
      " 15  enginesize        205 non-null    int64  \n",
      " 16  fuelsystem        205 non-null    object \n",
      " 17  boreratio         205 non-null    float64\n",
      " 18  stroke            205 non-null    float64\n",
      " 19  compressionratio  205 non-null    float64\n",
      " 20  horsepower        205 non-null    int64  \n",
      " 21  peakrpm           205 non-null    int64  \n",
      " 22  citympg           205 non-null    int64  \n",
      " 23  highwaympg        205 non-null    int64  \n",
      " 24  price             205 non-null    float64\n",
      "dtypes: float64(8), int64(7), object(10)\n",
      "memory usage: 40.2+ KB\n"
     ]
    }
   ],
   "source": [
    "data.info()"
   ]
  },
  {
   "cell_type": "code",
   "execution_count": 123,
   "id": "e4f9f0d8",
   "metadata": {},
   "outputs": [],
   "source": [
    "a=data.drop(columns=[\"price\"])\n",
    "b=data[\"price\"]"
   ]
  },
  {
   "cell_type": "code",
   "execution_count": 124,
   "id": "faed2876",
   "metadata": {},
   "outputs": [],
   "source": [
    "categorical=a.select_dtypes(include=[\"object\"])"
   ]
  },
  {
   "cell_type": "code",
   "execution_count": 2,
   "id": "3f89ac62",
   "metadata": {},
   "outputs": [
    {
     "ename": "NameError",
     "evalue": "name 'data' is not defined",
     "output_type": "error",
     "traceback": [
      "\u001b[1;31m---------------------------------------------------------------------------\u001b[0m",
      "\u001b[1;31mNameError\u001b[0m                                 Traceback (most recent call last)",
      "Cell \u001b[1;32mIn[2], line 1\u001b[0m\n\u001b[1;32m----> 1\u001b[0m dummy\u001b[38;5;241m=\u001b[39mdata\u001b[38;5;241m.\u001b[39mget_dummies(categorical,drop_first\u001b[38;5;241m=\u001b[39m\u001b[38;5;28;01mTrue\u001b[39;00m)\n\u001b[0;32m      2\u001b[0m a\u001b[38;5;241m=\u001b[39m a\u001b[38;5;241m.\u001b[39mdrop(\u001b[38;5;28mlist\u001b[39m(categorical\u001b[38;5;241m.\u001b[39mcolumns),axis\u001b[38;5;241m=\u001b[39m\u001b[38;5;241m1\u001b[39m)\n\u001b[0;32m      3\u001b[0m a\u001b[38;5;241m=\u001b[39mpd\u001b[38;5;241m.\u001b[39mconcat([a,dummy],axis\u001b[38;5;241m=\u001b[39m\u001b[38;5;241m1\u001b[39m)\n",
      "\u001b[1;31mNameError\u001b[0m: name 'data' is not defined"
     ]
    }
   ],
   "source": [
    "dummy=data.get_dummies(categorical,drop_first=True)\n",
    "a= a.drop(list(categorical.columns),axis=1)\n",
    "a=pd.concat([a,dummy],axis=1)"
   ]
  },
  {
   "cell_type": "code",
   "execution_count": 126,
   "id": "a295df32",
   "metadata": {},
   "outputs": [],
   "source": [
    "from sklearn.model_selection import train_test_split as tts\n",
    "a_train,a_test,b_train,b_test=tts(a,b,random_state=101)"
   ]
  },
  {
   "cell_type": "code",
   "execution_count": 127,
   "id": "377bde05",
   "metadata": {},
   "outputs": [],
   "source": [
    "from sklearn.tree import DecisionTreeRegressor\n",
    "model=DecisionTreeRegressor()\n",
    "model.fit(a_train,b_train)\n",
    "predictions=model.predict(a_test)"
   ]
  },
  {
   "cell_type": "code",
   "execution_count": 131,
   "id": "46c38bc4",
   "metadata": {},
   "outputs": [
    {
     "data": {
      "text/plain": [
       "1.0"
      ]
     },
     "execution_count": 131,
     "metadata": {},
     "output_type": "execute_result"
    }
   ],
   "source": [
    "from sklearn.metrics import mean_absolute_error\n",
    "model.score(a_test,predictions)"
   ]
  },
  {
   "cell_type": "code",
   "execution_count": null,
   "id": "bbb65669",
   "metadata": {},
   "outputs": [],
   "source": []
  }
 ],
 "metadata": {
  "kernelspec": {
   "display_name": "Python 3 (ipykernel)",
   "language": "python",
   "name": "python3"
  },
  "language_info": {
   "codemirror_mode": {
    "name": "ipython",
    "version": 3
   },
   "file_extension": ".py",
   "mimetype": "text/x-python",
   "name": "python",
   "nbconvert_exporter": "python",
   "pygments_lexer": "ipython3",
   "version": "3.11.4"
  }
 },
 "nbformat": 4,
 "nbformat_minor": 5
}
